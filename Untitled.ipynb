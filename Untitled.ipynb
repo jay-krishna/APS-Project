{
 "cells": [
  {
   "cell_type": "code",
   "execution_count": 1,
   "metadata": {},
   "outputs": [],
   "source": [
    "import numpy as np\n",
    "import matplotlib.pyplot as plt\n",
    "import cv2\n",
    "from PIL import Image\n",
    "%matplotlib inline"
   ]
  },
  {
   "cell_type": "code",
   "execution_count": null,
   "metadata": {},
   "outputs": [],
   "source": [
    "# image=cv2.imread('/home/singular/img/3.jpg',1)\n",
    "# # image=image[100:150,100:150,:]\n",
    "# image = cv2.cvtColor(image, cv2.COLOR_BGR2YCR_CB)\n",
    "# # cv2.namedWindow(\"Display frame\", cv2.WINDOW_NORMAL)\n",
    "# # cv2.imshow('image',image)\n",
    "# # cv2.waitKey(0)\n",
    "# # cv2.destroyAllWindows()\n",
    "# plt.imshow(image)\n",
    "# plt.show()\n",
    "# # cv2.imwrite('messigray.png',image)"
   ]
  },
  {
   "cell_type": "code",
   "execution_count": null,
   "metadata": {},
   "outputs": [],
   "source": [
    "\n",
    "# # print(image.shape)\n",
    "# y, cb, cr = cv2.split(image)\n",
    "# cv2.imwrite('y.jpg',y)\n",
    "# cv2.imwrite('cb.jpg',cb)\n",
    "# cv2.imwrite('cr.jpg',cr)\n",
    "\n",
    "\n",
    "# titles = ['Original Image', 'Red', 'Green', 'Blue']\n",
    "# images = [cv2.merge((y, cb, cr)), y, cb, cr]\n",
    "\n",
    "    \n",
    "# plt.subplot(2, 2, 1)\n",
    "# plt.imshow(images[0])\n",
    "# plt.title(titles[0])\n",
    "# plt.xticks([])\n",
    "# plt.yticks([])\n",
    "\n",
    "# plt.subplot(2, 2, 2)\n",
    "# plt.imshow(images[1], cmap='Reds')\n",
    "# plt.title(titles[1])\n",
    "# plt.xticks([])\n",
    "# plt.yticks([])\n",
    "\n",
    "# plt.subplot(2, 2, 3)\n",
    "# plt.imshow(images[2], cmap='Greens')\n",
    "# plt.title(titles[2])\n",
    "# plt.xticks([])\n",
    "# plt.yticks([])\n",
    "\n",
    "# plt.subplot(2, 2, 4)\n",
    "# plt.imshow(images[3], cmap='Blues')\n",
    "# plt.title(titles[3])\n",
    "# plt.xticks([])\n",
    "# plt.yticks([])\n",
    "\n",
    "# plt.show()  "
   ]
  },
  {
   "cell_type": "code",
   "execution_count": 5,
   "metadata": {},
   "outputs": [
    {
     "name": "stdout",
     "output_type": "stream",
     "text": [
      "19882818\n"
     ]
    }
   ],
   "source": [
    "original_image=cv2.imread('/home/singular/img/3.jpg')\n",
    "original_image_size=original_image.nbytes"
   ]
  },
  {
   "cell_type": "code",
   "execution_count": 4,
   "metadata": {},
   "outputs": [
    {
     "name": "stdout",
     "output_type": "stream",
     "text": [
      "(1051, 3153)\n",
      "(1051, 3153)\n"
     ]
    }
   ],
   "source": [
    "ycrcb_image=cv2.cvtColor(original_image,cv2.COLOR_BGR2YCR_CB)\n",
    "y, cb, cr = cv2.split(ycrcb_image)\n",
    "print(c.size)\n",
    "row1=2\n",
    "row2=2\n",
    "\n",
    "if(row1==4):\n",
    "    row1_step=1\n",
    "elif(row1==2):\n",
    "    row1_step=2\n",
    "else:\n",
    "    row1_step=4\n",
    "    \n",
    "cb_new=cb[::row1_step]\n",
    "\n",
    "if(row2==0):\n",
    "    cr_new=cb_new\n",
    "else:\n",
    "    if(row2==4):\n",
    "        row2_step=1\n",
    "    elif(row2==2):\n",
    "        row2_step=2\n",
    "    else:\n",
    "        row2_step=4\n",
    "        \n",
    "    cr_new=cr[::row2_step]\n",
    "    \n",
    "print(cb_new.shape)\n",
    "print(cr_new.shape)"
   ]
  }
 ],
 "metadata": {
  "kernelspec": {
   "display_name": "Python 3",
   "language": "python",
   "name": "python3"
  },
  "language_info": {
   "codemirror_mode": {
    "name": "ipython",
    "version": 3
   },
   "file_extension": ".py",
   "mimetype": "text/x-python",
   "name": "python",
   "nbconvert_exporter": "python",
   "pygments_lexer": "ipython3",
   "version": "3.6.8"
  }
 },
 "nbformat": 4,
 "nbformat_minor": 2
}
